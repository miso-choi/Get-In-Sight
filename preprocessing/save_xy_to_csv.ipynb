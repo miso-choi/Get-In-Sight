{
  "nbformat": 4,
  "nbformat_minor": 0,
  "metadata": {
    "colab": {
      "name": "save_xy_to_csv.ipynb",
      "provenance": [],
      "collapsed_sections": []
    },
    "kernelspec": {
      "name": "python3",
      "display_name": "Python 3"
    },
    "language_info": {
      "name": "python"
    }
  },
  "cells": [
    {
      "cell_type": "code",
      "metadata": {
        "colab": {
          "base_uri": "https://localhost:8080/"
        },
        "id": "9ozkKTyeHTbZ",
        "outputId": "67b8193e-c8d5-458e-a3b4-f36cc122feaa"
      },
      "source": [
        "from google.colab import drive\n",
        "drive.mount('/content/drive')"
      ],
      "execution_count": 1,
      "outputs": [
        {
          "output_type": "stream",
          "name": "stdout",
          "text": [
            "Mounted at /content/drive\n"
          ]
        }
      ]
    },
    {
      "cell_type": "code",
      "metadata": {
        "id": "g-jKba1ZH6ql"
      },
      "source": [
        "os.chdir(\"/content/drive/MyDrive/암빅데이터_경진대회/최종코드\")"
      ],
      "execution_count": 3,
      "outputs": []
    },
    {
      "cell_type": "code",
      "metadata": {
        "id": "wqhijDwtH0SO"
      },
      "source": [
        "import os\n",
        "import pandas as pd\n",
        "import numpy as np\n",
        "from sklearn.preprocessing import MinMaxScaler\n",
        "from preprocessing.stage import Preprocess, Classify\n",
        "import warnings\n",
        "warnings.filterwarnings(action='ignore')"
      ],
      "execution_count": 6,
      "outputs": []
    },
    {
      "cell_type": "markdown",
      "metadata": {
        "id": "KskTZKzBJJFd"
      },
      "source": [
        "데이터 로드"
      ]
    },
    {
      "cell_type": "code",
      "metadata": {
        "id": "1RprCGIGc_VV"
      },
      "source": [
        "colorectal_train = pd.read_csv(\"./data/original/학습데이터_대장암.csv\")\n",
        "colorectal_test = pd.read_csv(\"./data/original/대장암 합성데이터.csv\")\n",
        "colorectal_total = pd.concat([colorectal_train,colorectal_test], ignore_index=True)\n",
        "\n",
        "# 학습이 잘 되도록 데이터 전체 shuffle 하기\n",
        "train_shuffle = colorectal_train.sample(frac=1, random_state=23).reset_index(drop=True)  # shape: (10000,54)\n",
        "test_shuffle = colorectal_test.sample(frac=1, random_state=23).reset_index(drop=True)    # shape: (5000,54)\n",
        "total_shuffle = colorectal_total.sample(frac=1, random_state=23).reset_index(drop=True)"
      ],
      "execution_count": 5,
      "outputs": []
    },
    {
      "cell_type": "code",
      "metadata": {
        "id": "UxG1W4kumR-c"
      },
      "source": [
        "def Scale(df_x):\n",
        "    # Type of Drink 컬럼의 값 : 1,2,3,99\n",
        "    # 99(기타) -> 0으로 변경\n",
        "    change_value_dict = {99:0}   # key: 변경 전 값, value: 변경 후 값\n",
        "    df_x = df_x.replace({'Type of Drink' : change_value_dict})\n",
        "\n",
        "    # df_x의 컬럼 'Type of Drink', 'Smoke'에 대하여\n",
        "    # MinMaxScaler 사용하여 0~1 사이로 정규화\n",
        "    scaler = MinMaxScaler()\n",
        "    arr_drk = np.array(df_x['Type of Drink']).reshape(-1,1)\n",
        "    scaler.fit(arr_drk)\n",
        "    scaled_drk = scaler.transform(arr_drk)\n",
        "\n",
        "    scaler = MinMaxScaler()\n",
        "    arr_smk = np.array(df_x['Smoke']).reshape(-1,1)\n",
        "    scaler.fit(arr_smk)\n",
        "    scaled_smk = scaler.transform(arr_smk)\n",
        "\n",
        "    # df_x로 다시 합쳐주기\n",
        "    df_drk = pd.DataFrame(scaled_drk.reshape(-1,),columns=['Type of Drink'])\n",
        "    df_smk = pd.DataFrame(scaled_smk.reshape(-1,),columns=['Smoke'])\n",
        "    df_x = pd.concat([df_x.iloc[:,0:7], df_drk, df_smk],axis=1)\n",
        "\n",
        "    return df_x"
      ],
      "execution_count": 7,
      "outputs": []
    },
    {
      "cell_type": "code",
      "metadata": {
        "id": "tPRYlVjX7AHd"
      },
      "source": [
        "def Save_xy(data, mode):   # mode: train - \"tr\", test - \"ts\", total - \"total\" \n",
        "    \n",
        "    ## X로 사용할 컬럼(조직학적 진단 코드 + 개인건강정보) 추출 및 저장\n",
        "    df_x = pd.concat([data.iloc[:,2:9], data.iloc[:,39:41]],axis = 1)\n",
        "\n",
        "    # X값 범위가 0~1이 되도록 결측값 0으로 변경 및 정규화\n",
        "    df_x = Scale(df_x)\n",
        "    # 저장\n",
        "    df_x.to_csv(\"./data/preprocessed/data_x_\"+ mode +\".csv\", mode = \"w\")\n",
        "    \n",
        "\n",
        "    ## y로 사용할 컬럼 생성 - 'Stage' : 암 병기값 1~4 소수 단위\n",
        "    df_TNM = data.iloc[:,9:39]\n",
        "    df_TNM['Stage'] = np.NaN   # Stage 열 추가 (초기값: NaN)\n",
        "\n",
        "    # 암 병기값 분류를 위해 TNM 병기 값 전처리 (예: 사용 안되는 컬럼값의 값들을 유사한 컬럼에 더해주기)\n",
        "    df_TNM = Preprocess(df_TNM)\n",
        "\n",
        "    # 암 병기값 분류\n",
        "    df_TNM = Classify(df_TNM)\n",
        "\n",
        "    # df_TNM['Stage']의 NaN값을 0으로 대체\n",
        "    df_TNM['Stage'].fillna(0, inplace=True)\n",
        "\n",
        "    df_y = df_TNM['Stage']\n",
        "    # 저장\n",
        "    df_y.to_csv(\"./data/preprocessed/data_y_\"+ mode +\".csv\", mode = \"w\")\n",
        "\n",
        "    return df_x, df_y"
      ],
      "execution_count": 8,
      "outputs": []
    },
    {
      "cell_type": "code",
      "metadata": {
        "id": "qR7PfQRUANnL"
      },
      "source": [
        "df_x_tr, df_y_tr = Save_xy(train_shuffle,\"tr\")\n",
        "df_x_ts, df_y_ts = Save_xy(test_shuffle,\"ts\")\n",
        "df_x_total, df_y_total = Save_xy(total_shuffle,\"total\")"
      ],
      "execution_count": 9,
      "outputs": []
    }
  ]
}