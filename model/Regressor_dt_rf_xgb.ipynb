{
  "nbformat": 4,
  "nbformat_minor": 0,
  "metadata": {
    "colab": {
      "name": "Regressor_dt_rf_xgb.ipynb",
      "provenance": [],
      "collapsed_sections": []
    },
    "kernelspec": {
      "display_name": "Python 3",
      "name": "python3"
    },
    "language_info": {
      "name": "python"
    },
    "accelerator": "GPU"
  },
  "cells": [
    {
      "cell_type": "code",
      "metadata": {
        "colab": {
          "base_uri": "https://localhost:8080/"
        },
        "id": "R4mk0gmbA-Wg",
        "outputId": "e8ea1186-6687-43b0-9057-110391330dba"
      },
      "source": [
        "from google.colab import drive\n",
        "drive.mount('/content/drive')"
      ],
      "execution_count": 1,
      "outputs": [
        {
          "output_type": "stream",
          "name": "stdout",
          "text": [
            "Mounted at /content/drive\n"
          ]
        }
      ]
    },
    {
      "cell_type": "code",
      "metadata": {
        "id": "gSBZCO_qBiW4"
      },
      "source": [
        "import os\n",
        "import pandas as pd\n",
        "import numpy as np\n",
        "from sklearn.model_selection import train_test_split\n",
        "from sklearn.metrics import mean_squared_error"
      ],
      "execution_count": 2,
      "outputs": []
    },
    {
      "cell_type": "code",
      "metadata": {
        "id": "MaSYTZvXBinE"
      },
      "source": [
        "os.chdir(\"/content/drive/MyDrive/암빅데이터_경진대회/최종코드\")"
      ],
      "execution_count": 3,
      "outputs": []
    },
    {
      "cell_type": "code",
      "metadata": {
        "id": "iEW6g9yrBiu7"
      },
      "source": [
        "df_x_tr = pd.read_csv(\"./data/preprocessed/data_x_tr.csv\")\n",
        "df_y_tr = pd.read_csv(\"./data/preprocessed/data_y_tr.csv\")\n",
        "df_x_ts = pd.read_csv(\"./data/preprocessed/data_x_ts.csv\")\n",
        "df_y_ts = pd.read_csv(\"./data/preprocessed/data_y_ts.csv\")"
      ],
      "execution_count": 4,
      "outputs": []
    },
    {
      "cell_type": "code",
      "metadata": {
        "id": "G5ayilUkBi0o"
      },
      "source": [
        "df_x_tr.drop(['Unnamed: 0'],axis=1, inplace=True)\n",
        "df_y_tr.drop(['Unnamed: 0'],axis=1, inplace=True)\n",
        "df_x_ts.drop(['Unnamed: 0'],axis=1, inplace=True)\n",
        "df_y_ts.drop(['Unnamed: 0'],axis=1, inplace=True)"
      ],
      "execution_count": 5,
      "outputs": []
    },
    {
      "cell_type": "code",
      "metadata": {
        "id": "OR3AyC9REz41"
      },
      "source": [
        "x_train, x_val, y_train, y_val = train_test_split(df_x_tr, df_y_tr, test_size=0.1, shuffle=True, stratify=df_y_tr, random_state=23)"
      ],
      "execution_count": 6,
      "outputs": []
    },
    {
      "cell_type": "code",
      "metadata": {
        "id": "RRfY2gx5H2n4"
      },
      "source": [
        "x_train.reset_index(drop=True,inplace=True)\n",
        "x_val.reset_index(drop=True,inplace=True)\n",
        "y_train.reset_index(drop=True,inplace=True)\n",
        "y_val.reset_index(drop=True,inplace=True)"
      ],
      "execution_count": 7,
      "outputs": []
    },
    {
      "cell_type": "code",
      "metadata": {
        "id": "E4Eu4l2lJcTV"
      },
      "source": [
        "from sklearn.ensemble import RandomForestRegressor\n",
        "from sklearn.metrics import mean_absolute_error\n",
        "from xgboost import XGBRegressor\n",
        "from sklearn.tree import DecisionTreeRegressor\n",
        "from sklearn.model_selection import GridSearchCV"
      ],
      "execution_count": 13,
      "outputs": []
    },
    {
      "cell_type": "markdown",
      "metadata": {
        "id": "iA-ZNcGtJaek"
      },
      "source": [
        "# DecisionTree"
      ]
    },
    {
      "cell_type": "code",
      "metadata": {
        "id": "GQvxDRz5Vtuu"
      },
      "source": [
        "dt_reg=DecisionTreeRegressor(random_state=0)"
      ],
      "execution_count": 9,
      "outputs": []
    },
    {
      "cell_type": "code",
      "metadata": {
        "colab": {
          "base_uri": "https://localhost:8080/"
        },
        "id": "PmRsqi5qLzo_",
        "outputId": "4897e561-b15a-4c0b-88f6-618be34dc709"
      },
      "source": [
        "dt_reg.get_params().keys()"
      ],
      "execution_count": 10,
      "outputs": [
        {
          "output_type": "execute_result",
          "data": {
            "text/plain": [
              "dict_keys(['ccp_alpha', 'criterion', 'max_depth', 'max_features', 'max_leaf_nodes', 'min_impurity_decrease', 'min_impurity_split', 'min_samples_leaf', 'min_samples_split', 'min_weight_fraction_leaf', 'presort', 'random_state', 'splitter'])"
            ]
          },
          "metadata": {},
          "execution_count": 10
        }
      ]
    },
    {
      "cell_type": "code",
      "metadata": {
        "colab": {
          "base_uri": "https://localhost:8080/",
          "height": 601
        },
        "id": "HW-yxOUtUlED",
        "outputId": "fea01755-71d7-4333-963f-7fa47d1577da"
      },
      "source": [
        "params = { \n",
        "        'max_depth' : [8,11],     \n",
        "        'min_samples_leaf' : [55,57],\n",
        "        'min_samples_split' : [2,4],\n",
        "        'max_features' : [6,7]\n",
        "          }\n",
        "\n",
        "grid_cv = GridSearchCV(dt_reg, param_grid = params, cv = 10, n_jobs = -1,scoring = 'neg_mean_absolute_error', return_train_score=True)\n",
        "grid_cv.fit(x_train, y_train)\n",
        "mae= -1*grid_cv.best_score_\n",
        "\n",
        "print('최적 mae: ',mae)\n",
        "print('최적 하이퍼 파라미터: ', grid_cv.best_params_)\n",
        "\n",
        "best_dt_cv = grid_cv.cv_results_\n",
        "dt_result = pd.DataFrame(best_dt_cv)\n",
        "dt_result.drop(['mean_fit_time', 'std_fit_time', 'mean_score_time', 'std_score_time', 'params'],axis=1,inplace=True)\n",
        "dt_df = pd.concat([dt_result.iloc[:,0:4],dt_result.iloc[:,14:17],dt_result.iloc[:,27:29]],axis=1)\n",
        "dt_df.iloc[:,4] = -1*dt_df.iloc[:,4] \n",
        "dt_df.iloc[:,7] = -1*dt_df.iloc[:,7] \n",
        "dt_df"
      ],
      "execution_count": 11,
      "outputs": [
        {
          "output_type": "stream",
          "name": "stdout",
          "text": [
            "최적 mae:  1.1683325822744188\n",
            "최적 하이퍼 파라미터:  {'max_depth': 8, 'max_features': 6, 'min_samples_leaf': 55, 'min_samples_split': 2}\n"
          ]
        },
        {
          "output_type": "execute_result",
          "data": {
            "text/html": [
              "<div>\n",
              "<style scoped>\n",
              "    .dataframe tbody tr th:only-of-type {\n",
              "        vertical-align: middle;\n",
              "    }\n",
              "\n",
              "    .dataframe tbody tr th {\n",
              "        vertical-align: top;\n",
              "    }\n",
              "\n",
              "    .dataframe thead th {\n",
              "        text-align: right;\n",
              "    }\n",
              "</style>\n",
              "<table border=\"1\" class=\"dataframe\">\n",
              "  <thead>\n",
              "    <tr style=\"text-align: right;\">\n",
              "      <th></th>\n",
              "      <th>param_max_depth</th>\n",
              "      <th>param_max_features</th>\n",
              "      <th>param_min_samples_leaf</th>\n",
              "      <th>param_min_samples_split</th>\n",
              "      <th>mean_test_score</th>\n",
              "      <th>std_test_score</th>\n",
              "      <th>rank_test_score</th>\n",
              "      <th>mean_train_score</th>\n",
              "      <th>std_train_score</th>\n",
              "    </tr>\n",
              "  </thead>\n",
              "  <tbody>\n",
              "    <tr>\n",
              "      <th>0</th>\n",
              "      <td>8</td>\n",
              "      <td>6</td>\n",
              "      <td>55</td>\n",
              "      <td>2</td>\n",
              "      <td>1.168333</td>\n",
              "      <td>0.028581</td>\n",
              "      <td>1</td>\n",
              "      <td>1.162320</td>\n",
              "      <td>0.005806</td>\n",
              "    </tr>\n",
              "    <tr>\n",
              "      <th>1</th>\n",
              "      <td>8</td>\n",
              "      <td>6</td>\n",
              "      <td>55</td>\n",
              "      <td>4</td>\n",
              "      <td>1.168333</td>\n",
              "      <td>0.028581</td>\n",
              "      <td>1</td>\n",
              "      <td>1.162320</td>\n",
              "      <td>0.005806</td>\n",
              "    </tr>\n",
              "    <tr>\n",
              "      <th>2</th>\n",
              "      <td>8</td>\n",
              "      <td>6</td>\n",
              "      <td>57</td>\n",
              "      <td>2</td>\n",
              "      <td>1.169420</td>\n",
              "      <td>0.028374</td>\n",
              "      <td>9</td>\n",
              "      <td>1.162394</td>\n",
              "      <td>0.005643</td>\n",
              "    </tr>\n",
              "    <tr>\n",
              "      <th>3</th>\n",
              "      <td>8</td>\n",
              "      <td>6</td>\n",
              "      <td>57</td>\n",
              "      <td>4</td>\n",
              "      <td>1.169420</td>\n",
              "      <td>0.028374</td>\n",
              "      <td>9</td>\n",
              "      <td>1.162394</td>\n",
              "      <td>0.005643</td>\n",
              "    </tr>\n",
              "    <tr>\n",
              "      <th>4</th>\n",
              "      <td>8</td>\n",
              "      <td>7</td>\n",
              "      <td>55</td>\n",
              "      <td>2</td>\n",
              "      <td>1.169745</td>\n",
              "      <td>0.030737</td>\n",
              "      <td>11</td>\n",
              "      <td>1.161193</td>\n",
              "      <td>0.005639</td>\n",
              "    </tr>\n",
              "    <tr>\n",
              "      <th>5</th>\n",
              "      <td>8</td>\n",
              "      <td>7</td>\n",
              "      <td>55</td>\n",
              "      <td>4</td>\n",
              "      <td>1.169745</td>\n",
              "      <td>0.030737</td>\n",
              "      <td>11</td>\n",
              "      <td>1.161193</td>\n",
              "      <td>0.005639</td>\n",
              "    </tr>\n",
              "    <tr>\n",
              "      <th>6</th>\n",
              "      <td>8</td>\n",
              "      <td>7</td>\n",
              "      <td>57</td>\n",
              "      <td>2</td>\n",
              "      <td>1.170071</td>\n",
              "      <td>0.031122</td>\n",
              "      <td>13</td>\n",
              "      <td>1.161577</td>\n",
              "      <td>0.005673</td>\n",
              "    </tr>\n",
              "    <tr>\n",
              "      <th>7</th>\n",
              "      <td>8</td>\n",
              "      <td>7</td>\n",
              "      <td>57</td>\n",
              "      <td>4</td>\n",
              "      <td>1.170071</td>\n",
              "      <td>0.031122</td>\n",
              "      <td>13</td>\n",
              "      <td>1.161577</td>\n",
              "      <td>0.005673</td>\n",
              "    </tr>\n",
              "    <tr>\n",
              "      <th>8</th>\n",
              "      <td>11</td>\n",
              "      <td>6</td>\n",
              "      <td>55</td>\n",
              "      <td>2</td>\n",
              "      <td>1.170134</td>\n",
              "      <td>0.028579</td>\n",
              "      <td>15</td>\n",
              "      <td>1.161005</td>\n",
              "      <td>0.005983</td>\n",
              "    </tr>\n",
              "    <tr>\n",
              "      <th>9</th>\n",
              "      <td>11</td>\n",
              "      <td>6</td>\n",
              "      <td>55</td>\n",
              "      <td>4</td>\n",
              "      <td>1.170134</td>\n",
              "      <td>0.028579</td>\n",
              "      <td>15</td>\n",
              "      <td>1.161005</td>\n",
              "      <td>0.005983</td>\n",
              "    </tr>\n",
              "    <tr>\n",
              "      <th>10</th>\n",
              "      <td>11</td>\n",
              "      <td>6</td>\n",
              "      <td>57</td>\n",
              "      <td>2</td>\n",
              "      <td>1.168737</td>\n",
              "      <td>0.029522</td>\n",
              "      <td>3</td>\n",
              "      <td>1.161584</td>\n",
              "      <td>0.005871</td>\n",
              "    </tr>\n",
              "    <tr>\n",
              "      <th>11</th>\n",
              "      <td>11</td>\n",
              "      <td>6</td>\n",
              "      <td>57</td>\n",
              "      <td>4</td>\n",
              "      <td>1.168737</td>\n",
              "      <td>0.029522</td>\n",
              "      <td>3</td>\n",
              "      <td>1.161584</td>\n",
              "      <td>0.005871</td>\n",
              "    </tr>\n",
              "    <tr>\n",
              "      <th>12</th>\n",
              "      <td>11</td>\n",
              "      <td>7</td>\n",
              "      <td>55</td>\n",
              "      <td>2</td>\n",
              "      <td>1.169399</td>\n",
              "      <td>0.031362</td>\n",
              "      <td>7</td>\n",
              "      <td>1.160292</td>\n",
              "      <td>0.005829</td>\n",
              "    </tr>\n",
              "    <tr>\n",
              "      <th>13</th>\n",
              "      <td>11</td>\n",
              "      <td>7</td>\n",
              "      <td>55</td>\n",
              "      <td>4</td>\n",
              "      <td>1.169399</td>\n",
              "      <td>0.031362</td>\n",
              "      <td>7</td>\n",
              "      <td>1.160292</td>\n",
              "      <td>0.005829</td>\n",
              "    </tr>\n",
              "    <tr>\n",
              "      <th>14</th>\n",
              "      <td>11</td>\n",
              "      <td>7</td>\n",
              "      <td>57</td>\n",
              "      <td>2</td>\n",
              "      <td>1.169139</td>\n",
              "      <td>0.030775</td>\n",
              "      <td>5</td>\n",
              "      <td>1.160583</td>\n",
              "      <td>0.005904</td>\n",
              "    </tr>\n",
              "    <tr>\n",
              "      <th>15</th>\n",
              "      <td>11</td>\n",
              "      <td>7</td>\n",
              "      <td>57</td>\n",
              "      <td>4</td>\n",
              "      <td>1.169139</td>\n",
              "      <td>0.030775</td>\n",
              "      <td>5</td>\n",
              "      <td>1.160583</td>\n",
              "      <td>0.005904</td>\n",
              "    </tr>\n",
              "  </tbody>\n",
              "</table>\n",
              "</div>"
            ],
            "text/plain": [
              "   param_max_depth param_max_features  ... mean_train_score std_train_score\n",
              "0                8                  6  ...         1.162320        0.005806\n",
              "1                8                  6  ...         1.162320        0.005806\n",
              "2                8                  6  ...         1.162394        0.005643\n",
              "3                8                  6  ...         1.162394        0.005643\n",
              "4                8                  7  ...         1.161193        0.005639\n",
              "5                8                  7  ...         1.161193        0.005639\n",
              "6                8                  7  ...         1.161577        0.005673\n",
              "7                8                  7  ...         1.161577        0.005673\n",
              "8               11                  6  ...         1.161005        0.005983\n",
              "9               11                  6  ...         1.161005        0.005983\n",
              "10              11                  6  ...         1.161584        0.005871\n",
              "11              11                  6  ...         1.161584        0.005871\n",
              "12              11                  7  ...         1.160292        0.005829\n",
              "13              11                  7  ...         1.160292        0.005829\n",
              "14              11                  7  ...         1.160583        0.005904\n",
              "15              11                  7  ...         1.160583        0.005904\n",
              "\n",
              "[16 rows x 9 columns]"
            ]
          },
          "metadata": {},
          "execution_count": 11
        }
      ]
    },
    {
      "cell_type": "code",
      "metadata": {
        "colab": {
          "base_uri": "https://localhost:8080/"
        },
        "id": "EQmqrQn0z6rV",
        "outputId": "6262bd46-ccca-416b-d4ee-63a09f24d5ff"
      },
      "source": [
        "best_df = grid_cv.best_estimator_\n",
        "\n",
        "# Validation 데이터로 검증\n",
        "dt_pred = best_df.predict(x_val)\n",
        "print(\"Validation MAE :\", mean_absolute_error(y_val,dt_pred))"
      ],
      "execution_count": 14,
      "outputs": [
        {
          "output_type": "stream",
          "name": "stdout",
          "text": [
            "Validation MAE : 1.1707449262432752\n"
          ]
        }
      ]
    },
    {
      "cell_type": "code",
      "metadata": {
        "colab": {
          "base_uri": "https://localhost:8080/"
        },
        "id": "zIopblfb0cuo",
        "outputId": "2da1cadf-8b24-43fa-a146-5a03cb167687"
      },
      "source": [
        "# 검증데이터(df_x_ts, df_y_ts)로 External Validation 진행\n",
        "dt_reg=DecisionTreeRegressor(random_state=0,max_depth=8,min_samples_split=2,min_samples_leaf=55,max_features=6)\n",
        "dt_reg.fit(x_train,y_train)\n",
        "dt_pred = dt_reg.predict(df_x_ts)\n",
        "print(\"External Validation MAE :\", mean_absolute_error(df_y_ts,dt_pred))"
      ],
      "execution_count": 15,
      "outputs": [
        {
          "output_type": "stream",
          "name": "stdout",
          "text": [
            "External Validation MAE : 0.885081854624215\n"
          ]
        }
      ]
    },
    {
      "cell_type": "markdown",
      "metadata": {
        "id": "u6oBJkHSGDBq"
      },
      "source": [
        "# RandomForest"
      ]
    },
    {
      "cell_type": "code",
      "metadata": {
        "id": "nNnIImXhXmdD"
      },
      "source": [
        "rf_reg=RandomForestRegressor(random_state=0)"
      ],
      "execution_count": 16,
      "outputs": []
    },
    {
      "cell_type": "code",
      "metadata": {
        "id": "13MJ2RQSW77X",
        "colab": {
          "base_uri": "https://localhost:8080/"
        },
        "outputId": "7292f014-2686-46a9-d068-17b5f26ab54a"
      },
      "source": [
        "rf_reg.get_params"
      ],
      "execution_count": 17,
      "outputs": [
        {
          "output_type": "execute_result",
          "data": {
            "text/plain": [
              "<bound method BaseEstimator.get_params of RandomForestRegressor(bootstrap=True, ccp_alpha=0.0, criterion='mse',\n",
              "                      max_depth=None, max_features='auto', max_leaf_nodes=None,\n",
              "                      max_samples=None, min_impurity_decrease=0.0,\n",
              "                      min_impurity_split=None, min_samples_leaf=1,\n",
              "                      min_samples_split=2, min_weight_fraction_leaf=0.0,\n",
              "                      n_estimators=100, n_jobs=None, oob_score=False,\n",
              "                      random_state=0, verbose=0, warm_start=False)>"
            ]
          },
          "metadata": {},
          "execution_count": 17
        }
      ]
    },
    {
      "cell_type": "code",
      "metadata": {
        "id": "jHl6X_LDXl3U",
        "colab": {
          "base_uri": "https://localhost:8080/",
          "height": 511
        },
        "outputId": "2a572465-9cc2-4cd2-fc39-6bca64d419db"
      },
      "source": [
        "params = { \n",
        "        'n_estimators':[1,2,3],\n",
        "        'max_depth' : [None,5],     \n",
        "        'min_samples_leaf' : [20,30,40],\n",
        "        'min_samples_split' : [1,2,3],\n",
        "        'max_features' : [7,8,9]\n",
        "          }\n",
        "\n",
        "grid_cv = GridSearchCV(rf_reg, param_grid = params, cv = 10, n_jobs = -1,scoring = 'neg_mean_absolute_error')\n",
        "grid_cv.fit(x_train, y_train)\n",
        "mae= -1*grid_cv.best_score_\n",
        "\n",
        "print('최적 mae: ',mae)\n",
        "print('최적 하이퍼 파라미터: ', grid_cv.best_params_)\n",
        "\n",
        "best_rf_cv=grid_cv.cv_results_\n",
        "rf_result = pd.DataFrame(best_rf_cv)\n",
        "rf_result.drop(['mean_fit_time', 'std_fit_time', 'mean_score_time', 'std_score_time', 'params'],axis=1,inplace=True)\n",
        "rf_df = pd.concat([rf_result.iloc[:,0:4],rf_result.iloc[:,14:18]],axis=1)\n",
        "rf_df.iloc[:,4] = -1*rf_df.iloc[:,4] \n",
        "rf_df"
      ],
      "execution_count": 18,
      "outputs": [
        {
          "output_type": "stream",
          "name": "stdout",
          "text": [
            "최적 mae:  1.1613454793823632\n",
            "최적 하이퍼 파라미터:  {'max_depth': None, 'max_features': 8, 'min_samples_leaf': 30, 'min_samples_split': 2, 'n_estimators': 2}\n"
          ]
        },
        {
          "output_type": "stream",
          "name": "stderr",
          "text": [
            "/usr/local/lib/python3.7/dist-packages/sklearn/model_selection/_search.py:739: DataConversionWarning: A column-vector y was passed when a 1d array was expected. Please change the shape of y to (n_samples,), for example using ravel().\n",
            "  self.best_estimator_.fit(X, y, **fit_params)\n"
          ]
        },
        {
          "output_type": "execute_result",
          "data": {
            "text/html": [
              "<div>\n",
              "<style scoped>\n",
              "    .dataframe tbody tr th:only-of-type {\n",
              "        vertical-align: middle;\n",
              "    }\n",
              "\n",
              "    .dataframe tbody tr th {\n",
              "        vertical-align: top;\n",
              "    }\n",
              "\n",
              "    .dataframe thead th {\n",
              "        text-align: right;\n",
              "    }\n",
              "</style>\n",
              "<table border=\"1\" class=\"dataframe\">\n",
              "  <thead>\n",
              "    <tr style=\"text-align: right;\">\n",
              "      <th></th>\n",
              "      <th>param_max_depth</th>\n",
              "      <th>param_max_features</th>\n",
              "      <th>param_min_samples_leaf</th>\n",
              "      <th>param_min_samples_split</th>\n",
              "      <th>split9_test_score</th>\n",
              "      <th>mean_test_score</th>\n",
              "      <th>std_test_score</th>\n",
              "      <th>rank_test_score</th>\n",
              "    </tr>\n",
              "  </thead>\n",
              "  <tbody>\n",
              "    <tr>\n",
              "      <th>0</th>\n",
              "      <td>None</td>\n",
              "      <td>7</td>\n",
              "      <td>20</td>\n",
              "      <td>1</td>\n",
              "      <td>NaN</td>\n",
              "      <td>NaN</td>\n",
              "      <td>NaN</td>\n",
              "      <td>162</td>\n",
              "    </tr>\n",
              "    <tr>\n",
              "      <th>1</th>\n",
              "      <td>None</td>\n",
              "      <td>7</td>\n",
              "      <td>20</td>\n",
              "      <td>1</td>\n",
              "      <td>NaN</td>\n",
              "      <td>NaN</td>\n",
              "      <td>NaN</td>\n",
              "      <td>110</td>\n",
              "    </tr>\n",
              "    <tr>\n",
              "      <th>2</th>\n",
              "      <td>None</td>\n",
              "      <td>7</td>\n",
              "      <td>20</td>\n",
              "      <td>1</td>\n",
              "      <td>NaN</td>\n",
              "      <td>NaN</td>\n",
              "      <td>NaN</td>\n",
              "      <td>112</td>\n",
              "    </tr>\n",
              "    <tr>\n",
              "      <th>3</th>\n",
              "      <td>None</td>\n",
              "      <td>7</td>\n",
              "      <td>20</td>\n",
              "      <td>2</td>\n",
              "      <td>1.184494</td>\n",
              "      <td>-1.167953</td>\n",
              "      <td>0.030911</td>\n",
              "      <td>107</td>\n",
              "    </tr>\n",
              "    <tr>\n",
              "      <th>4</th>\n",
              "      <td>None</td>\n",
              "      <td>7</td>\n",
              "      <td>20</td>\n",
              "      <td>2</td>\n",
              "      <td>1.175625</td>\n",
              "      <td>-1.163471</td>\n",
              "      <td>0.031909</td>\n",
              "      <td>29</td>\n",
              "    </tr>\n",
              "    <tr>\n",
              "      <th>...</th>\n",
              "      <td>...</td>\n",
              "      <td>...</td>\n",
              "      <td>...</td>\n",
              "      <td>...</td>\n",
              "      <td>...</td>\n",
              "      <td>...</td>\n",
              "      <td>...</td>\n",
              "      <td>...</td>\n",
              "    </tr>\n",
              "    <tr>\n",
              "      <th>157</th>\n",
              "      <td>5</td>\n",
              "      <td>9</td>\n",
              "      <td>40</td>\n",
              "      <td>2</td>\n",
              "      <td>1.170442</td>\n",
              "      <td>-1.163565</td>\n",
              "      <td>0.030539</td>\n",
              "      <td>31</td>\n",
              "    </tr>\n",
              "    <tr>\n",
              "      <th>158</th>\n",
              "      <td>5</td>\n",
              "      <td>9</td>\n",
              "      <td>40</td>\n",
              "      <td>2</td>\n",
              "      <td>1.173784</td>\n",
              "      <td>-1.166275</td>\n",
              "      <td>0.030267</td>\n",
              "      <td>83</td>\n",
              "    </tr>\n",
              "    <tr>\n",
              "      <th>159</th>\n",
              "      <td>5</td>\n",
              "      <td>9</td>\n",
              "      <td>40</td>\n",
              "      <td>3</td>\n",
              "      <td>1.178735</td>\n",
              "      <td>-1.166758</td>\n",
              "      <td>0.029769</td>\n",
              "      <td>97</td>\n",
              "    </tr>\n",
              "    <tr>\n",
              "      <th>160</th>\n",
              "      <td>5</td>\n",
              "      <td>9</td>\n",
              "      <td>40</td>\n",
              "      <td>3</td>\n",
              "      <td>1.170442</td>\n",
              "      <td>-1.163565</td>\n",
              "      <td>0.030539</td>\n",
              "      <td>31</td>\n",
              "    </tr>\n",
              "    <tr>\n",
              "      <th>161</th>\n",
              "      <td>5</td>\n",
              "      <td>9</td>\n",
              "      <td>40</td>\n",
              "      <td>3</td>\n",
              "      <td>1.173784</td>\n",
              "      <td>-1.166275</td>\n",
              "      <td>0.030267</td>\n",
              "      <td>83</td>\n",
              "    </tr>\n",
              "  </tbody>\n",
              "</table>\n",
              "<p>162 rows × 8 columns</p>\n",
              "</div>"
            ],
            "text/plain": [
              "    param_max_depth param_max_features  ... std_test_score rank_test_score\n",
              "0              None                  7  ...            NaN             162\n",
              "1              None                  7  ...            NaN             110\n",
              "2              None                  7  ...            NaN             112\n",
              "3              None                  7  ...       0.030911             107\n",
              "4              None                  7  ...       0.031909              29\n",
              "..              ...                ...  ...            ...             ...\n",
              "157               5                  9  ...       0.030539              31\n",
              "158               5                  9  ...       0.030267              83\n",
              "159               5                  9  ...       0.029769              97\n",
              "160               5                  9  ...       0.030539              31\n",
              "161               5                  9  ...       0.030267              83\n",
              "\n",
              "[162 rows x 8 columns]"
            ]
          },
          "metadata": {},
          "execution_count": 18
        }
      ]
    },
    {
      "cell_type": "code",
      "metadata": {
        "colab": {
          "base_uri": "https://localhost:8080/"
        },
        "id": "Wvm7Bw8w14ZZ",
        "outputId": "1ac72f4a-c0f9-498c-ee1b-7740d2c4e220"
      },
      "source": [
        "best_rf = grid_cv.best_estimator_ \n",
        "\n",
        "# Validation 데이터로 검증\n",
        "rf_pred = best_rf.predict(x_val)\n",
        "print(\"Validation MAE :\", mean_absolute_error(y_val,rf_pred))"
      ],
      "execution_count": 19,
      "outputs": [
        {
          "output_type": "stream",
          "name": "stdout",
          "text": [
            "Validation MAE : 1.170629168299479\n"
          ]
        }
      ]
    },
    {
      "cell_type": "code",
      "metadata": {
        "colab": {
          "base_uri": "https://localhost:8080/"
        },
        "id": "82Ijgo2B14Za",
        "outputId": "ab54a856-5d10-4fcb-cbc0-e5e5872f21e6"
      },
      "source": [
        "# 검증데이터(df_x_ts, df_y_ts)로 External Validation 진행\n",
        "best_rf = grid_cv.best_estimator_ \n",
        "rf_pred = best_rf.predict(df_x_ts)\n",
        "print(\"External Validation MAE :\", mean_absolute_error(df_y_ts,rf_pred))"
      ],
      "execution_count": 20,
      "outputs": [
        {
          "output_type": "stream",
          "name": "stdout",
          "text": [
            "External Validation MAE : 0.8757766093065067\n"
          ]
        }
      ]
    },
    {
      "cell_type": "markdown",
      "metadata": {
        "id": "P82dfue4JRqn"
      },
      "source": [
        "# XGBoost"
      ]
    },
    {
      "cell_type": "code",
      "metadata": {
        "id": "2e-A8YBd2sb9"
      },
      "source": [
        "xgb_reg = XGBRegressor()"
      ],
      "execution_count": 21,
      "outputs": []
    },
    {
      "cell_type": "code",
      "metadata": {
        "colab": {
          "base_uri": "https://localhost:8080/"
        },
        "id": "Hlh6zXQh39W0",
        "outputId": "63fcc9bc-7b36-4efa-8ea9-584a6fa28dee"
      },
      "source": [
        "xgb_reg.get_params"
      ],
      "execution_count": 22,
      "outputs": [
        {
          "output_type": "execute_result",
          "data": {
            "text/plain": [
              "<bound method XGBModel.get_params of XGBRegressor(base_score=0.5, booster='gbtree', colsample_bylevel=1,\n",
              "             colsample_bynode=1, colsample_bytree=1, gamma=0,\n",
              "             importance_type='gain', learning_rate=0.1, max_delta_step=0,\n",
              "             max_depth=3, min_child_weight=1, missing=None, n_estimators=100,\n",
              "             n_jobs=1, nthread=None, objective='reg:linear', random_state=0,\n",
              "             reg_alpha=0, reg_lambda=1, scale_pos_weight=1, seed=None,\n",
              "             silent=None, subsample=1, verbosity=1)>"
            ]
          },
          "metadata": {},
          "execution_count": 22
        }
      ]
    },
    {
      "cell_type": "code",
      "metadata": {
        "colab": {
          "base_uri": "https://localhost:8080/",
          "height": 1000
        },
        "id": "rcJNeG8Y2tJM",
        "outputId": "7a040c36-ab68-4d31-921b-9df69f4342aa"
      },
      "source": [
        "params = { \n",
        "          'n_estimators':[100,340,350,400],\n",
        "          'max_depth' : [1,2,3],\n",
        "          'learning rate' : [0.0001, 0.001, 0.005],\n",
        "          }\n",
        "\n",
        "grid_cv = GridSearchCV(xgb_reg, param_grid = params, cv = 10, n_jobs = -1,scoring = 'neg_mean_absolute_error')\n",
        "grid_cv.fit(x_train, y_train)\n",
        "mae= -1*grid_cv.best_score_\n",
        "\n",
        "print('최적 mae: ',mae)\n",
        "print('최적 하이퍼 파라미터: ', grid_cv.best_params_)\n",
        "\n",
        "best_xgb_cv=grid_cv.cv_results_\n",
        "xgb_result = pd.DataFrame(best_xgb_cv)\n",
        "xgb_result.drop(['mean_fit_time', 'std_fit_time', 'mean_score_time', 'std_score_time', 'params'],axis=1,inplace=True)\n",
        "xgb_df = pd.concat([xgb_result.iloc[:,0:3],xgb_result.iloc[:,13:16]],axis=1)\n",
        "xgb_df.iloc[:,3] = -1*xgb_df.iloc[:,3] \n",
        "xgb_df"
      ],
      "execution_count": 23,
      "outputs": [
        {
          "output_type": "stream",
          "name": "stdout",
          "text": [
            "[21:25:14] WARNING: /workspace/src/objective/regression_obj.cu:152: reg:linear is now deprecated in favor of reg:squarederror.\n",
            "최적 mae:  1.1698160038577186\n",
            "최적 하이퍼 파라미터:  {'learning rate': 0.0001, 'max_depth': 2, 'n_estimators': 350}\n"
          ]
        },
        {
          "output_type": "execute_result",
          "data": {
            "text/html": [
              "<div>\n",
              "<style scoped>\n",
              "    .dataframe tbody tr th:only-of-type {\n",
              "        vertical-align: middle;\n",
              "    }\n",
              "\n",
              "    .dataframe tbody tr th {\n",
              "        vertical-align: top;\n",
              "    }\n",
              "\n",
              "    .dataframe thead th {\n",
              "        text-align: right;\n",
              "    }\n",
              "</style>\n",
              "<table border=\"1\" class=\"dataframe\">\n",
              "  <thead>\n",
              "    <tr style=\"text-align: right;\">\n",
              "      <th></th>\n",
              "      <th>param_learning rate</th>\n",
              "      <th>param_max_depth</th>\n",
              "      <th>param_n_estimators</th>\n",
              "      <th>mean_test_score</th>\n",
              "      <th>std_test_score</th>\n",
              "      <th>rank_test_score</th>\n",
              "    </tr>\n",
              "  </thead>\n",
              "  <tbody>\n",
              "    <tr>\n",
              "      <th>0</th>\n",
              "      <td>0.0001</td>\n",
              "      <td>1</td>\n",
              "      <td>100</td>\n",
              "      <td>1.170826</td>\n",
              "      <td>0.028881</td>\n",
              "      <td>22</td>\n",
              "    </tr>\n",
              "    <tr>\n",
              "      <th>1</th>\n",
              "      <td>0.0001</td>\n",
              "      <td>1</td>\n",
              "      <td>340</td>\n",
              "      <td>1.170532</td>\n",
              "      <td>0.029132</td>\n",
              "      <td>19</td>\n",
              "    </tr>\n",
              "    <tr>\n",
              "      <th>2</th>\n",
              "      <td>0.0001</td>\n",
              "      <td>1</td>\n",
              "      <td>350</td>\n",
              "      <td>1.170528</td>\n",
              "      <td>0.029134</td>\n",
              "      <td>16</td>\n",
              "    </tr>\n",
              "    <tr>\n",
              "      <th>3</th>\n",
              "      <td>0.0001</td>\n",
              "      <td>1</td>\n",
              "      <td>400</td>\n",
              "      <td>1.170500</td>\n",
              "      <td>0.029152</td>\n",
              "      <td>13</td>\n",
              "    </tr>\n",
              "    <tr>\n",
              "      <th>4</th>\n",
              "      <td>0.0001</td>\n",
              "      <td>2</td>\n",
              "      <td>100</td>\n",
              "      <td>1.170362</td>\n",
              "      <td>0.029674</td>\n",
              "      <td>10</td>\n",
              "    </tr>\n",
              "    <tr>\n",
              "      <th>5</th>\n",
              "      <td>0.0001</td>\n",
              "      <td>2</td>\n",
              "      <td>340</td>\n",
              "      <td>1.169843</td>\n",
              "      <td>0.030105</td>\n",
              "      <td>7</td>\n",
              "    </tr>\n",
              "    <tr>\n",
              "      <th>6</th>\n",
              "      <td>0.0001</td>\n",
              "      <td>2</td>\n",
              "      <td>350</td>\n",
              "      <td>1.169816</td>\n",
              "      <td>0.030109</td>\n",
              "      <td>1</td>\n",
              "    </tr>\n",
              "    <tr>\n",
              "      <th>7</th>\n",
              "      <td>0.0001</td>\n",
              "      <td>2</td>\n",
              "      <td>400</td>\n",
              "      <td>1.169825</td>\n",
              "      <td>0.030068</td>\n",
              "      <td>4</td>\n",
              "    </tr>\n",
              "    <tr>\n",
              "      <th>8</th>\n",
              "      <td>0.0001</td>\n",
              "      <td>3</td>\n",
              "      <td>100</td>\n",
              "      <td>1.171177</td>\n",
              "      <td>0.029538</td>\n",
              "      <td>25</td>\n",
              "    </tr>\n",
              "    <tr>\n",
              "      <th>9</th>\n",
              "      <td>0.0001</td>\n",
              "      <td>3</td>\n",
              "      <td>340</td>\n",
              "      <td>1.171850</td>\n",
              "      <td>0.030204</td>\n",
              "      <td>31</td>\n",
              "    </tr>\n",
              "    <tr>\n",
              "      <th>10</th>\n",
              "      <td>0.0001</td>\n",
              "      <td>3</td>\n",
              "      <td>350</td>\n",
              "      <td>1.171895</td>\n",
              "      <td>0.030117</td>\n",
              "      <td>34</td>\n",
              "    </tr>\n",
              "    <tr>\n",
              "      <th>11</th>\n",
              "      <td>0.0001</td>\n",
              "      <td>3</td>\n",
              "      <td>400</td>\n",
              "      <td>1.171847</td>\n",
              "      <td>0.030341</td>\n",
              "      <td>28</td>\n",
              "    </tr>\n",
              "    <tr>\n",
              "      <th>12</th>\n",
              "      <td>0.001</td>\n",
              "      <td>1</td>\n",
              "      <td>100</td>\n",
              "      <td>1.170826</td>\n",
              "      <td>0.028881</td>\n",
              "      <td>22</td>\n",
              "    </tr>\n",
              "    <tr>\n",
              "      <th>13</th>\n",
              "      <td>0.001</td>\n",
              "      <td>1</td>\n",
              "      <td>340</td>\n",
              "      <td>1.170532</td>\n",
              "      <td>0.029132</td>\n",
              "      <td>19</td>\n",
              "    </tr>\n",
              "    <tr>\n",
              "      <th>14</th>\n",
              "      <td>0.001</td>\n",
              "      <td>1</td>\n",
              "      <td>350</td>\n",
              "      <td>1.170528</td>\n",
              "      <td>0.029134</td>\n",
              "      <td>16</td>\n",
              "    </tr>\n",
              "    <tr>\n",
              "      <th>15</th>\n",
              "      <td>0.001</td>\n",
              "      <td>1</td>\n",
              "      <td>400</td>\n",
              "      <td>1.170500</td>\n",
              "      <td>0.029152</td>\n",
              "      <td>13</td>\n",
              "    </tr>\n",
              "    <tr>\n",
              "      <th>16</th>\n",
              "      <td>0.001</td>\n",
              "      <td>2</td>\n",
              "      <td>100</td>\n",
              "      <td>1.170362</td>\n",
              "      <td>0.029674</td>\n",
              "      <td>10</td>\n",
              "    </tr>\n",
              "    <tr>\n",
              "      <th>17</th>\n",
              "      <td>0.001</td>\n",
              "      <td>2</td>\n",
              "      <td>340</td>\n",
              "      <td>1.169843</td>\n",
              "      <td>0.030105</td>\n",
              "      <td>7</td>\n",
              "    </tr>\n",
              "    <tr>\n",
              "      <th>18</th>\n",
              "      <td>0.001</td>\n",
              "      <td>2</td>\n",
              "      <td>350</td>\n",
              "      <td>1.169816</td>\n",
              "      <td>0.030109</td>\n",
              "      <td>1</td>\n",
              "    </tr>\n",
              "    <tr>\n",
              "      <th>19</th>\n",
              "      <td>0.001</td>\n",
              "      <td>2</td>\n",
              "      <td>400</td>\n",
              "      <td>1.169825</td>\n",
              "      <td>0.030068</td>\n",
              "      <td>4</td>\n",
              "    </tr>\n",
              "    <tr>\n",
              "      <th>20</th>\n",
              "      <td>0.001</td>\n",
              "      <td>3</td>\n",
              "      <td>100</td>\n",
              "      <td>1.171177</td>\n",
              "      <td>0.029538</td>\n",
              "      <td>25</td>\n",
              "    </tr>\n",
              "    <tr>\n",
              "      <th>21</th>\n",
              "      <td>0.001</td>\n",
              "      <td>3</td>\n",
              "      <td>340</td>\n",
              "      <td>1.171850</td>\n",
              "      <td>0.030204</td>\n",
              "      <td>31</td>\n",
              "    </tr>\n",
              "    <tr>\n",
              "      <th>22</th>\n",
              "      <td>0.001</td>\n",
              "      <td>3</td>\n",
              "      <td>350</td>\n",
              "      <td>1.171895</td>\n",
              "      <td>0.030117</td>\n",
              "      <td>34</td>\n",
              "    </tr>\n",
              "    <tr>\n",
              "      <th>23</th>\n",
              "      <td>0.001</td>\n",
              "      <td>3</td>\n",
              "      <td>400</td>\n",
              "      <td>1.171847</td>\n",
              "      <td>0.030341</td>\n",
              "      <td>28</td>\n",
              "    </tr>\n",
              "    <tr>\n",
              "      <th>24</th>\n",
              "      <td>0.005</td>\n",
              "      <td>1</td>\n",
              "      <td>100</td>\n",
              "      <td>1.170826</td>\n",
              "      <td>0.028881</td>\n",
              "      <td>22</td>\n",
              "    </tr>\n",
              "    <tr>\n",
              "      <th>25</th>\n",
              "      <td>0.005</td>\n",
              "      <td>1</td>\n",
              "      <td>340</td>\n",
              "      <td>1.170532</td>\n",
              "      <td>0.029132</td>\n",
              "      <td>19</td>\n",
              "    </tr>\n",
              "    <tr>\n",
              "      <th>26</th>\n",
              "      <td>0.005</td>\n",
              "      <td>1</td>\n",
              "      <td>350</td>\n",
              "      <td>1.170528</td>\n",
              "      <td>0.029134</td>\n",
              "      <td>16</td>\n",
              "    </tr>\n",
              "    <tr>\n",
              "      <th>27</th>\n",
              "      <td>0.005</td>\n",
              "      <td>1</td>\n",
              "      <td>400</td>\n",
              "      <td>1.170500</td>\n",
              "      <td>0.029152</td>\n",
              "      <td>13</td>\n",
              "    </tr>\n",
              "    <tr>\n",
              "      <th>28</th>\n",
              "      <td>0.005</td>\n",
              "      <td>2</td>\n",
              "      <td>100</td>\n",
              "      <td>1.170362</td>\n",
              "      <td>0.029674</td>\n",
              "      <td>10</td>\n",
              "    </tr>\n",
              "    <tr>\n",
              "      <th>29</th>\n",
              "      <td>0.005</td>\n",
              "      <td>2</td>\n",
              "      <td>340</td>\n",
              "      <td>1.169843</td>\n",
              "      <td>0.030105</td>\n",
              "      <td>7</td>\n",
              "    </tr>\n",
              "    <tr>\n",
              "      <th>30</th>\n",
              "      <td>0.005</td>\n",
              "      <td>2</td>\n",
              "      <td>350</td>\n",
              "      <td>1.169816</td>\n",
              "      <td>0.030109</td>\n",
              "      <td>1</td>\n",
              "    </tr>\n",
              "    <tr>\n",
              "      <th>31</th>\n",
              "      <td>0.005</td>\n",
              "      <td>2</td>\n",
              "      <td>400</td>\n",
              "      <td>1.169825</td>\n",
              "      <td>0.030068</td>\n",
              "      <td>4</td>\n",
              "    </tr>\n",
              "    <tr>\n",
              "      <th>32</th>\n",
              "      <td>0.005</td>\n",
              "      <td>3</td>\n",
              "      <td>100</td>\n",
              "      <td>1.171177</td>\n",
              "      <td>0.029538</td>\n",
              "      <td>25</td>\n",
              "    </tr>\n",
              "    <tr>\n",
              "      <th>33</th>\n",
              "      <td>0.005</td>\n",
              "      <td>3</td>\n",
              "      <td>340</td>\n",
              "      <td>1.171850</td>\n",
              "      <td>0.030204</td>\n",
              "      <td>31</td>\n",
              "    </tr>\n",
              "    <tr>\n",
              "      <th>34</th>\n",
              "      <td>0.005</td>\n",
              "      <td>3</td>\n",
              "      <td>350</td>\n",
              "      <td>1.171895</td>\n",
              "      <td>0.030117</td>\n",
              "      <td>34</td>\n",
              "    </tr>\n",
              "    <tr>\n",
              "      <th>35</th>\n",
              "      <td>0.005</td>\n",
              "      <td>3</td>\n",
              "      <td>400</td>\n",
              "      <td>1.171847</td>\n",
              "      <td>0.030341</td>\n",
              "      <td>28</td>\n",
              "    </tr>\n",
              "  </tbody>\n",
              "</table>\n",
              "</div>"
            ],
            "text/plain": [
              "   param_learning rate param_max_depth  ... std_test_score  rank_test_score\n",
              "0               0.0001               1  ...       0.028881               22\n",
              "1               0.0001               1  ...       0.029132               19\n",
              "2               0.0001               1  ...       0.029134               16\n",
              "3               0.0001               1  ...       0.029152               13\n",
              "4               0.0001               2  ...       0.029674               10\n",
              "5               0.0001               2  ...       0.030105                7\n",
              "6               0.0001               2  ...       0.030109                1\n",
              "7               0.0001               2  ...       0.030068                4\n",
              "8               0.0001               3  ...       0.029538               25\n",
              "9               0.0001               3  ...       0.030204               31\n",
              "10              0.0001               3  ...       0.030117               34\n",
              "11              0.0001               3  ...       0.030341               28\n",
              "12               0.001               1  ...       0.028881               22\n",
              "13               0.001               1  ...       0.029132               19\n",
              "14               0.001               1  ...       0.029134               16\n",
              "15               0.001               1  ...       0.029152               13\n",
              "16               0.001               2  ...       0.029674               10\n",
              "17               0.001               2  ...       0.030105                7\n",
              "18               0.001               2  ...       0.030109                1\n",
              "19               0.001               2  ...       0.030068                4\n",
              "20               0.001               3  ...       0.029538               25\n",
              "21               0.001               3  ...       0.030204               31\n",
              "22               0.001               3  ...       0.030117               34\n",
              "23               0.001               3  ...       0.030341               28\n",
              "24               0.005               1  ...       0.028881               22\n",
              "25               0.005               1  ...       0.029132               19\n",
              "26               0.005               1  ...       0.029134               16\n",
              "27               0.005               1  ...       0.029152               13\n",
              "28               0.005               2  ...       0.029674               10\n",
              "29               0.005               2  ...       0.030105                7\n",
              "30               0.005               2  ...       0.030109                1\n",
              "31               0.005               2  ...       0.030068                4\n",
              "32               0.005               3  ...       0.029538               25\n",
              "33               0.005               3  ...       0.030204               31\n",
              "34               0.005               3  ...       0.030117               34\n",
              "35               0.005               3  ...       0.030341               28\n",
              "\n",
              "[36 rows x 6 columns]"
            ]
          },
          "metadata": {},
          "execution_count": 23
        }
      ]
    },
    {
      "cell_type": "code",
      "metadata": {
        "colab": {
          "base_uri": "https://localhost:8080/"
        },
        "id": "JfCn9G6Z4EjZ",
        "outputId": "c44e965a-a4f1-46a4-a463-a4658b1711a9"
      },
      "source": [
        "best_xgb = grid_cv.best_estimator_ \n",
        "\n",
        "# Validation 데이터로 검증\n",
        "xgb_pred = best_xgb.predict(x_val)\n",
        "print(\"Validation MAE :\", mean_absolute_error(y_val,xgb_pred))"
      ],
      "execution_count": 24,
      "outputs": [
        {
          "output_type": "stream",
          "name": "stdout",
          "text": [
            "Validation MAE : 1.1686743136405944\n"
          ]
        }
      ]
    },
    {
      "cell_type": "code",
      "metadata": {
        "colab": {
          "base_uri": "https://localhost:8080/"
        },
        "id": "DhZiFCcE4Ejq",
        "outputId": "7544ffdc-f5f8-4a2b-e7fa-bc3e23bd1fa9"
      },
      "source": [
        "# 검증데이터(df_x_ts, df_y_ts)로 External Validation 진행\n",
        "best_xgb = grid_cv.best_estimator_ \n",
        "xgb_pred = best_xgb.predict(df_x_ts)\n",
        "print(\"External Validation MAE :\", mean_absolute_error(df_y_ts,xgb_pred))"
      ],
      "execution_count": 25,
      "outputs": [
        {
          "output_type": "stream",
          "name": "stdout",
          "text": [
            "External Validation MAE : 0.8874446742820741\n"
          ]
        }
      ]
    },
    {
      "cell_type": "code",
      "metadata": {
        "id": "ynpWAz2S2tRE"
      },
      "source": [
        ""
      ],
      "execution_count": null,
      "outputs": []
    }
  ]
}