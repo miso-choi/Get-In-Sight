{
  "nbformat": 4,
  "nbformat_minor": 0,
  "metadata": {
    "colab": {
      "name": "Ensemble.ipynb",
      "provenance": [],
      "collapsed_sections": []
    },
    "kernelspec": {
      "name": "python3",
      "display_name": "Python 3"
    },
    "language_info": {
      "name": "python"
    },
    "accelerator": "GPU"
  },
  "cells": [
    {
      "cell_type": "code",
      "metadata": {
        "colab": {
          "base_uri": "https://localhost:8080/"
        },
        "id": "klnUnXvmXWIE",
        "outputId": "1140b56b-1892-4134-a9eb-4862b6e28fd0"
      },
      "source": [
        "from google.colab import drive\n",
        "drive.mount('/content/drive')"
      ],
      "execution_count": 1,
      "outputs": [
        {
          "output_type": "stream",
          "name": "stdout",
          "text": [
            "Mounted at /content/drive\n"
          ]
        }
      ]
    },
    {
      "cell_type": "code",
      "metadata": {
        "id": "L_-Jth2dXl1R"
      },
      "source": [
        "import os\n",
        "import pandas as pd\n",
        "import numpy as np\n",
        "from sklearn.model_selection import train_test_split, GridSearchCV\n",
        "\n",
        "from sklearn.ensemble import RandomForestRegressor, VotingRegressor\n",
        "from xgboost import XGBRegressor\n",
        "from sklearn.tree import DecisionTreeRegressor\n",
        "from sklearn.svm import SVR\n",
        "\n",
        "from sklearn.metrics import mean_absolute_error\n",
        "import warnings\n",
        "warnings.filterwarnings(action='ignore')"
      ],
      "execution_count": 2,
      "outputs": []
    },
    {
      "cell_type": "code",
      "metadata": {
        "id": "AFq67FgkXjVp"
      },
      "source": [
        "os.chdir(\"/content/drive/MyDrive/암빅데이터_경진대회/최종코드\")"
      ],
      "execution_count": 3,
      "outputs": []
    },
    {
      "cell_type": "markdown",
      "metadata": {
        "id": "IjEumCzK9xSC"
      },
      "source": [
        "## [1] 데이터 로드"
      ]
    },
    {
      "cell_type": "code",
      "metadata": {
        "id": "dgKBSmfpmq4P"
      },
      "source": [
        "# 학습데이터 불러오기 (for Training)\n",
        "df_x_tr = pd.read_csv(\"./data/preprocessed/data_x_tr.csv\")\n",
        "df_y_tr = pd.read_csv(\"./data/preprocessed/data_y_tr.csv\")\n",
        "df_x_tr.drop(['Unnamed: 0'],axis=1, inplace=True)  # (10000,9)\n",
        "df_y_tr.drop(['Unnamed: 0'],axis=1, inplace=True)  # (10000,1)"
      ],
      "execution_count": 4,
      "outputs": []
    },
    {
      "cell_type": "code",
      "metadata": {
        "id": "TX9uCgUqUt_z"
      },
      "source": [
        "# 검증데이터 불러오기 (for Test)\n",
        "df_x_ts = pd.read_csv(\"./data/preprocessed/data_x_ts.csv\")\n",
        "df_y_ts = pd.read_csv(\"./data/preprocessed/data_y_ts.csv\")\n",
        "df_x_ts.drop(['Unnamed: 0'],axis=1, inplace=True)  # (5000,9)\n",
        "df_y_ts.drop(['Unnamed: 0'],axis=1, inplace=True)  # (5000,1)"
      ],
      "execution_count": 5,
      "outputs": []
    },
    {
      "cell_type": "code",
      "metadata": {
        "id": "aXQR4GYNnq9D"
      },
      "source": [
        "# Train, Valid 분할 - train_test_split 사용\n",
        "x_train, x_val, y_train, y_val = train_test_split(df_x_tr, df_y_tr, test_size=0.1, shuffle=True, stratify=df_y_tr, random_state=23)"
      ],
      "execution_count": 6,
      "outputs": []
    },
    {
      "cell_type": "code",
      "metadata": {
        "id": "H2LBRwW4o8QS"
      },
      "source": [
        " # index 번호 0부터 순서대로 reset.\n",
        "x_train.reset_index(drop=True, inplace=True)\n",
        "x_val.reset_index(drop=True, inplace=True)\n",
        "y_train.reset_index(drop=True, inplace=True)\n",
        "y_val.reset_index(drop=True, inplace=True)  "
      ],
      "execution_count": 7,
      "outputs": []
    },
    {
      "cell_type": "code",
      "metadata": {
        "colab": {
          "base_uri": "https://localhost:8080/"
        },
        "id": "zXfEaZuunq6w",
        "outputId": "ba4f895d-9353-4d3f-ede7-a8d4d575fd75"
      },
      "source": [
        "print(\"x_train의 shape:\",x_train.shape)\n",
        "print(\"x_val의 shape:\",x_val.shape)\n",
        "print(\"y_train의 shape:\",y_train.shape)\n",
        "print(\"y_val의 shape:\",y_val.shape)"
      ],
      "execution_count": 8,
      "outputs": [
        {
          "output_type": "stream",
          "name": "stdout",
          "text": [
            "x_train의 shape: (9000, 9)\n",
            "x_val의 shape: (1000, 9)\n",
            "y_train의 shape: (9000, 1)\n",
            "y_val의 shape: (1000, 1)\n"
          ]
        }
      ]
    },
    {
      "cell_type": "markdown",
      "metadata": {
        "id": "U6oxdTw-VN0Q"
      },
      "source": [
        "## [2] Modeling"
      ]
    },
    {
      "cell_type": "markdown",
      "metadata": {
        "id": "CUnfI0XGpaIu"
      },
      "source": [
        "### Ensemble 방법 1    \n",
        "VotingRegressor 소스코드 수정:  \n",
        "모델 예측값 4개를 오름차순 정렬 후, 2번째와 3번째 값의 평균 계산"
      ]
    },
    {
      "cell_type": "markdown",
      "metadata": {
        "id": "OYjqCWfEfw6s"
      },
      "source": [
        "<img src=\"https://user-images.githubusercontent.com/78155086/135375498-5984cfa1-0b64-49ce-a349-41311bd59cb5.png\" width=\"50%\">"
      ]
    },
    {
      "cell_type": "code",
      "metadata": {
        "colab": {
          "base_uri": "https://localhost:8080/"
        },
        "id": "7hIHAX4Rm51K",
        "outputId": "2a82879b-f442-4ad8-9003-5a126bab80ea"
      },
      "source": [
        "# 약한 학습기 구축 \n",
        "# elst_reg = ElasticNet()\n",
        "dt_reg = DecisionTreeRegressor(max_depth=8, max_features=6, min_samples_leaf=55, min_samples_split=2)\n",
        "rf_reg = RandomForestRegressor(max_depth=None, max_features=8, min_samples_leaf=30, min_samples_split=2, n_estimators=2)\n",
        "xgb_reg = XGBRegressor(learning_rate=0.0001, max_depth=2, n_estimators=350)\n",
        "sv_reg = SVR(kernel='rbf', C=1000, gamma=0.01)\n",
        "\n",
        "# 앙상블 모델 구축\n",
        "# predict: 약한 분류기 4개의 예측값을 평균냄\n",
        "voting_model = VotingRegressor(\n",
        "    estimators=[('dt',dt_reg),('rf',rf_reg),('xgb',xgb_reg),('svr',sv_reg) ] # 4개의 약한 학습기  #('elst',elst_reg)  \n",
        "    #weights = np.array([1,1,1.1])\n",
        ")\n",
        "\n",
        "# 모델 비교\n",
        "for model in (dt_reg, rf_reg, xgb_reg, sv_reg, voting_model):\n",
        "    model.fit(x_train, y_train)\n",
        "    y_pred = model.predict(x_val)\n",
        "    \n",
        "    print(model.__class__.__name__,\" : \",mean_absolute_error(y_val, y_pred))\n"
      ],
      "execution_count": 41,
      "outputs": [
        {
          "output_type": "stream",
          "name": "stdout",
          "text": [
            "DecisionTreeRegressor  :  1.1683291239034423\n",
            "RandomForestRegressor  :  1.1720014115657413\n",
            "[22:10:14] WARNING: /workspace/src/objective/regression_obj.cu:152: reg:linear is now deprecated in favor of reg:squarederror.\n",
            "XGBRegressor  :  2.5565753536462785\n",
            "SVR  :  0.9814829164986304\n",
            "[22:10:28] WARNING: /workspace/src/objective/regression_obj.cu:152: reg:linear is now deprecated in favor of reg:squarederror.\n",
            "VotingRegressor  :  1.362140003083679\n"
          ]
        }
      ]
    },
    {
      "cell_type": "code",
      "metadata": {
        "colab": {
          "base_uri": "https://localhost:8080/"
        },
        "id": "noHHkb9xm51M",
        "outputId": "0f414f9f-8fc2-4785-df0e-d23415ac1940"
      },
      "source": [
        "# Voting model\n",
        "# Validation 데이터로 검증\n",
        "voting_pred = voting_model.predict(x_val)\n",
        "print(\"Validation MAE :\", mean_absolute_error(y_val,voting_pred))"
      ],
      "execution_count": 42,
      "outputs": [
        {
          "output_type": "stream",
          "name": "stdout",
          "text": [
            "Validation MAE : 1.362140003083679\n"
          ]
        }
      ]
    },
    {
      "cell_type": "code",
      "metadata": {
        "colab": {
          "base_uri": "https://localhost:8080/"
        },
        "id": "wptNLJW0m51N",
        "outputId": "0b167b81-99d3-417d-91b2-53d376232611"
      },
      "source": [
        "# 검증데이터(df_x_ts, df_y_ts)로 External Validation 진행\n",
        "voting_pred = voting_model.predict(df_x_ts)\n",
        "print(\"External Validation MAE :\", mean_absolute_error(df_y_ts,voting_pred))"
      ],
      "execution_count": 43,
      "outputs": [
        {
          "output_type": "stream",
          "name": "stdout",
          "text": [
            "External Validation MAE : 1.3139003877672304\n"
          ]
        }
      ]
    },
    {
      "cell_type": "markdown",
      "metadata": {
        "id": "CyCsyrqh6yhh"
      },
      "source": [
        "### Ensemble 방법 2    \n",
        "VotingRegressor 소스코드 수정:  \n",
        "모델 4개 중 성능이 좋은 SVR에 가중치를 크게 두어 평균 계산"
      ]
    },
    {
      "cell_type": "markdown",
      "metadata": {
        "id": "ABYZd31Hh10r"
      },
      "source": [
        "<img src=\"https://user-images.githubusercontent.com/78155086/135375554-293e105d-1afe-43fa-adbf-4f5faf5de6d3.png\" width=\"50%\">"
      ]
    },
    {
      "cell_type": "code",
      "metadata": {
        "colab": {
          "base_uri": "https://localhost:8080/"
        },
        "id": "oTRZ7iIg6wGl",
        "outputId": "50405438-7aa4-47af-8389-9fa7934d4ed5"
      },
      "source": [
        "# 약한 학습기 구축 \n",
        "# elst_reg = ElasticNet()\n",
        "dt_reg = DecisionTreeRegressor(max_depth=8, max_features=6, min_samples_leaf=55, min_samples_split=2)\n",
        "rf_reg = RandomForestRegressor(max_depth=None, max_features=8, min_samples_leaf=30, min_samples_split=2, n_estimators=2)\n",
        "xgb_reg = XGBRegressor(learning_rate=0.0001, max_depth=2, n_estimators=350)\n",
        "sv_reg = SVR(kernel='rbf', C=1000, gamma=0.01)\n",
        "\n",
        "# 앙상블 모델 구축\n",
        "# predict: 약한 분류기 4개의 예측값을 평균냄\n",
        "voting_model = VotingRegressor(\n",
        "    estimators=[('dt',dt_reg),('rf',rf_reg),('xgb',xgb_reg),('svr',sv_reg) ] # 4개의 약한 학습기  #('elst',elst_reg)  \n",
        "    #weights = np.array([1,1,1.1])\n",
        ")\n",
        "\n",
        "# 모델 비교\n",
        "for model in (dt_reg, rf_reg, xgb_reg, sv_reg, voting_model):\n",
        "    model.fit(x_train, y_train)\n",
        "    y_pred = model.predict(x_val)\n",
        "    \n",
        "    print(model.__class__.__name__,\" : \",mean_absolute_error(y_val, y_pred))\n"
      ],
      "execution_count": 16,
      "outputs": [
        {
          "output_type": "stream",
          "name": "stdout",
          "text": [
            "DecisionTreeRegressor  :  1.1692073010039439\n",
            "RandomForestRegressor  :  1.1621978439445098\n",
            "[23:48:24] WARNING: /workspace/src/objective/regression_obj.cu:152: reg:linear is now deprecated in favor of reg:squarederror.\n",
            "XGBRegressor  :  2.5565753536462785\n",
            "SVR  :  0.9814829164986304\n",
            "[23:48:38] WARNING: /workspace/src/objective/regression_obj.cu:152: reg:linear is now deprecated in favor of reg:squarederror.\n",
            "VotingRegressor  :  1.361226637239403\n"
          ]
        }
      ]
    },
    {
      "cell_type": "code",
      "metadata": {
        "colab": {
          "base_uri": "https://localhost:8080/"
        },
        "id": "Q7pUatlu6wGm",
        "outputId": "86e3227c-ce10-45fb-a103-68832c0e81a5"
      },
      "source": [
        "# Voting model\n",
        "# Validation 데이터로 검증\n",
        "voting_pred = voting_model.predict(x_val)\n",
        "print(\"Validation MAE :\", mean_absolute_error(y_val,voting_pred))"
      ],
      "execution_count": 17,
      "outputs": [
        {
          "output_type": "stream",
          "name": "stdout",
          "text": [
            "Validation MAE : 1.361226637239403\n"
          ]
        }
      ]
    },
    {
      "cell_type": "code",
      "metadata": {
        "colab": {
          "base_uri": "https://localhost:8080/"
        },
        "id": "Kk2vdUMv6wGn",
        "outputId": "a101ce0d-e5e9-4d01-9394-ea845aadea89"
      },
      "source": [
        "# 검증데이터(df_x_ts, df_y_ts)로 External Validation 진행\n",
        "voting_pred = voting_model.predict(df_x_ts)\n",
        "print(\"External Validation MAE :\", mean_absolute_error(df_y_ts,voting_pred))"
      ],
      "execution_count": 18,
      "outputs": [
        {
          "output_type": "stream",
          "name": "stdout",
          "text": [
            "External Validation MAE : 1.3173459930823126\n"
          ]
        }
      ]
    }
  ]
}