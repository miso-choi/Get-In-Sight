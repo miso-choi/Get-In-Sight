{
  "nbformat": 4,
  "nbformat_minor": 0,
  "metadata": {
    "colab": {
      "name": "Regressor_svr.ipynb",
      "provenance": [],
      "collapsed_sections": []
    },
    "kernelspec": {
      "name": "python3",
      "display_name": "Python 3"
    },
    "language_info": {
      "name": "python"
    },
    "accelerator": "GPU"
  },
  "cells": [
    {
      "cell_type": "code",
      "metadata": {
        "colab": {
          "base_uri": "https://localhost:8080/"
        },
        "id": "klnUnXvmXWIE",
        "outputId": "6dbef642-1c66-4fc0-ed21-73c524a7475c"
      },
      "source": [
        "from google.colab import drive\n",
        "drive.mount('/content/drive')"
      ],
      "execution_count": 1,
      "outputs": [
        {
          "output_type": "stream",
          "name": "stdout",
          "text": [
            "Mounted at /content/drive\n"
          ]
        }
      ]
    },
    {
      "cell_type": "code",
      "metadata": {
        "id": "L_-Jth2dXl1R"
      },
      "source": [
        "import os\n",
        "import pandas as pd\n",
        "import numpy as np\n",
        "import matplotlib.pyplot as plt\n",
        "import seaborn as sns\n",
        "import scipy.stats as stats\n",
        "from sklearn.model_selection import train_test_split\n",
        "\n",
        "from sklearn.svm import SVR\n",
        "from sklearn.model_selection import StratifiedShuffleSplit\n",
        "from sklearn.model_selection import GridSearchCV\n",
        "\n",
        "from sklearn.metrics import mean_absolute_error\n",
        "\n",
        "import warnings\n",
        "warnings.filterwarnings(action='ignore')"
      ],
      "execution_count": 2,
      "outputs": []
    },
    {
      "cell_type": "code",
      "metadata": {
        "id": "AFq67FgkXjVp"
      },
      "source": [
        "os.chdir(\"/content/drive/MyDrive/암빅데이터_경진대회/최종코드\")"
      ],
      "execution_count": 3,
      "outputs": []
    },
    {
      "cell_type": "markdown",
      "metadata": {
        "id": "IjEumCzK9xSC"
      },
      "source": [
        "## [1] 데이터 로드"
      ]
    },
    {
      "cell_type": "code",
      "metadata": {
        "id": "dgKBSmfpmq4P"
      },
      "source": [
        "# 학습데이터 불러오기 (for Training)\n",
        "df_x_tr = pd.read_csv(\"./data/preprocessed/data_x_tr.csv\")\n",
        "df_y_tr = pd.read_csv(\"./data/preprocessed/data_y_tr.csv\")\n",
        "df_x_tr.drop(['Unnamed: 0'],axis=1, inplace=True)  # (10000,9)\n",
        "df_y_tr.drop(['Unnamed: 0'],axis=1, inplace=True)  # (10000,1)"
      ],
      "execution_count": 4,
      "outputs": []
    },
    {
      "cell_type": "code",
      "metadata": {
        "id": "TX9uCgUqUt_z"
      },
      "source": [
        "# 검증데이터 불러오기 (for Test)\n",
        "df_x_ts = pd.read_csv(\"./data/preprocessed/data_x_ts.csv\")\n",
        "df_y_ts = pd.read_csv(\"./data/preprocessed/data_y_ts.csv\")\n",
        "df_x_ts.drop(['Unnamed: 0'],axis=1, inplace=True)  # (5000,9)\n",
        "df_y_ts.drop(['Unnamed: 0'],axis=1, inplace=True)  # (5000,1)"
      ],
      "execution_count": 5,
      "outputs": []
    },
    {
      "cell_type": "code",
      "metadata": {
        "id": "aXQR4GYNnq9D"
      },
      "source": [
        "# Train, Valid 분할 - train_test_split 사용\n",
        "x_train, x_val, y_train, y_val = train_test_split(df_x_tr, df_y_tr, test_size=0.1, shuffle=True, stratify=df_y_tr, random_state=23)"
      ],
      "execution_count": 6,
      "outputs": []
    },
    {
      "cell_type": "code",
      "metadata": {
        "id": "H2LBRwW4o8QS"
      },
      "source": [
        "# index 번호 0부터 순서대로 reset.\n",
        "x_train.reset_index(drop=True, inplace=True)\n",
        "x_val.reset_index(drop=True, inplace=True)\n",
        "y_train.reset_index(drop=True, inplace=True)\n",
        "y_val.reset_index(drop=True, inplace=True)  "
      ],
      "execution_count": 7,
      "outputs": []
    },
    {
      "cell_type": "code",
      "metadata": {
        "colab": {
          "base_uri": "https://localhost:8080/"
        },
        "id": "zXfEaZuunq6w",
        "outputId": "2946dbf0-7eec-4a36-b91b-0941bfb3defa"
      },
      "source": [
        "print(\"x_train의 shape:\",x_train.shape)\n",
        "print(\"x_val의 shape:\",x_val.shape)\n",
        "print(\"y_train의 shape:\",y_train.shape)\n",
        "print(\"y_val의 shape:\",y_val.shape)"
      ],
      "execution_count": 8,
      "outputs": [
        {
          "output_type": "stream",
          "name": "stdout",
          "text": [
            "x_train의 shape: (9000, 9)\n",
            "x_val의 shape: (1000, 9)\n",
            "y_train의 shape: (9000, 1)\n",
            "y_val의 shape: (1000, 1)\n"
          ]
        }
      ]
    },
    {
      "cell_type": "markdown",
      "metadata": {
        "id": "U6oxdTw-VN0Q"
      },
      "source": [
        "## [2] Modeling"
      ]
    },
    {
      "cell_type": "markdown",
      "metadata": {
        "id": "CUnfI0XGpaIu"
      },
      "source": [
        "### Support Vector Machine "
      ]
    },
    {
      "cell_type": "code",
      "metadata": {
        "colab": {
          "base_uri": "https://localhost:8080/"
        },
        "id": "5D214XBIuWA0",
        "outputId": "e0905590-0234-4ba2-c2a7-6627520eb63e"
      },
      "source": [
        "## RBF kernel SVM\n",
        "# gamma와 C 조절하며 최적화하기\n",
        "\n",
        "def get_best_params(C_range, gamma_range, reg):\n",
        "    param_grid = dict(gamma = gamma_range, C = C_range)\n",
        "    cv = StratifiedShuffleSplit(n_splits = 5, test_size = 0.2, random_state = 32)\n",
        "\n",
        "    grid = GridSearchCV(reg, param_grid = param_grid, cv = cv, scoring = 'neg_mean_absolute_error')\n",
        "    grid.fit(x_train, y_train)\n",
        "\n",
        "    print(\"최적 하이퍼 파라미터 :\",grid.best_params_)\n",
        "    mae= -1*grid.best_score_\n",
        "    print(\"최적 mae :\", mae)\n",
        "\n",
        "    return grid.best_params_, grid.best_estimator_\n",
        "\n",
        "\n",
        "C_range = np.array([1.e+00, 1.e+03])  # 1.e+05\n",
        "gamma_range = np.array([1.e-06, 1.e-02])  # 1.e+00\n",
        "svr_reg = SVR(kernel='rbf')\n",
        "\n",
        "svc_params, best_svc = get_best_params(C_range, gamma_range, svr_reg)"
      ],
      "execution_count": 28,
      "outputs": [
        {
          "output_type": "stream",
          "name": "stdout",
          "text": [
            "최적 하이퍼 파라미터 : {'C': 1.0, 'gamma': 0.01}\n",
            "최적 mae : 0.9828635811201947\n"
          ]
        }
      ]
    },
    {
      "cell_type": "code",
      "metadata": {
        "colab": {
          "base_uri": "https://localhost:8080/"
        },
        "id": "HDetgV5Pidd6",
        "outputId": "a908230b-dce0-46d1-a17e-cb843a884e27"
      },
      "source": [
        "## Best인 경우\n",
        "svr_reg = SVR(kernel='rbf', C=1000, gamma=0.01)\n",
        "svr_reg.fit(x_train, y_train)\n",
        "\n",
        "# Validation (학습데이터의 1/10)\n",
        "y_pred1 = svr_reg.predict(x_val)\n",
        "print(\"Validation MAE :\", mean_absolute_error(y_val, y_pred1))\n",
        "\n",
        "# External Validation (검증데이터)\n",
        "y_pred2 = svr_reg.predict(df_x_ts)\n",
        "print(\"External Validation MAE :\", mean_absolute_error(df_y_ts, y_pred2))"
      ],
      "execution_count": 11,
      "outputs": [
        {
          "output_type": "stream",
          "name": "stdout",
          "text": [
            "Validation MAE : 0.9814829164986304\n",
            "External Validation MAE : 0.369215432928282\n"
          ]
        }
      ]
    }
  ]
}